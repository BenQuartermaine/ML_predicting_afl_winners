{
 "cells": [
  {
   "cell_type": "markdown",
   "id": "25c89b3a-066d-427d-b6bf-4d6d79299a86",
   "metadata": {},
   "source": [
    "# Predicting AFL Winners\n",
    "Creating a model to predict winners in 2022"
   ]
  },
  {
   "cell_type": "markdown",
   "id": "d74d6f0e-9335-4344-92dc-cd22750ef6c8",
   "metadata": {
    "jp-MarkdownHeadingCollapsed": true,
    "tags": []
   },
   "source": [
    "## Imports and cleaning"
   ]
  },
  {
   "cell_type": "code",
   "execution_count": 1,
   "id": "c447eeb9-9831-4f07-a6a5-9cf4faf90c7e",
   "metadata": {},
   "outputs": [],
   "source": [
    "import pandas as pd\n",
    "import numpy as np"
   ]
  },
  {
   "cell_type": "code",
   "execution_count": 2,
   "id": "4ee91446-ba48-4790-9a6a-962cdd6acc5a",
   "metadata": {},
   "outputs": [],
   "source": [
    "games_df = pd.read_csv('data/games.csv')\n",
    "stats_df = pd.read_csv('data/stats.csv')\n",
    "players_df = pd.read_csv('data/players.csv')"
   ]
  },
  {
   "cell_type": "code",
   "execution_count": 3,
   "id": "1be6a51d-0791-4ed6-8a2d-e1b22444c23c",
   "metadata": {},
   "outputs": [],
   "source": [
    "# Replace all NaN rainfall values with 0, assuming no reading\n",
    "games_df['rainfall'].replace(np.NaN, 0.0, inplace = True)"
   ]
  },
  {
   "cell_type": "code",
   "execution_count": 4,
   "id": "a5541812-5ca1-417a-b17d-22ea96d22ca1",
   "metadata": {},
   "outputs": [],
   "source": [
    "import datetime\n",
    "# games_df['date'] = pd.to_datetime(games_df['date'])\n",
    "games_df.head()\n",
    "# games_df[games_df['date'] == '18-Mar-2021']\n",
    "\n",
    "\n",
    "games_df['date'] = games_df['date'].apply(lambda x: datetime.datetime.strptime(x, '%d-%b-%Y').strftime('%d-%b-%y'))\n"
   ]
  },
  {
   "cell_type": "code",
   "execution_count": 5,
   "id": "eba3b908-ce61-42d6-9e23-e8c9bf6b4a60",
   "metadata": {},
   "outputs": [],
   "source": [
    "games_df['date'] = pd.to_datetime(games_df['date'])"
   ]
  },
  {
   "cell_type": "markdown",
   "id": "c5754627-404c-474d-8ee1-2fdc6236c882",
   "metadata": {
    "jp-MarkdownHeadingCollapsed": true,
    "tags": []
   },
   "source": [
    "### Import and clean odds dataset"
   ]
  },
  {
   "cell_type": "code",
   "execution_count": 6,
   "id": "58c8d516-86f4-4935-b8f1-92dcead5bd23",
   "metadata": {},
   "outputs": [],
   "source": [
    "odds = pd.read_csv('data/odds.csv')  \n",
    "odds.columns = odds.iloc[0]\n",
    "odds = odds.drop(index = 0)\n",
    "odds.drop(columns = ['Total Score Open', 'Total Score Min',\n",
    "       'Total Score Max', 'Total Score Close', 'Total Score Over Open',\n",
    "       'Total Score Over Min', 'Total Score Over Max',\n",
    "       'Total Score Over Close', 'Total Score Under Open',\n",
    "       'Total Score Under Min', 'Total Score Under Max',\n",
    "       'Total Score Under Close', 'Notes', 'Bookmakers Surveyed', 'Home Odds Open', 'Home Odds Min',\n",
    "       'Home Odds Max', 'Home Odds Close', 'Away Odds Open', 'Away Odds Min',\n",
    "       'Away Odds Max', 'Away Odds Close', 'Home Line Open', 'Home Line Min',\n",
    "       'Home Line Max', 'Home Line Close', 'Away Line Open', 'Away Line Min',\n",
    "       'Away Line Max', 'Away Line Close', 'Home Line Odds Open',\n",
    "       'Home Line Odds Min', 'Home Line Odds Max', 'Home Line Odds Close',\n",
    "       'Away Line Odds Open', 'Away Line Odds Min', 'Away Line Odds Max',\n",
    "       'Away Line Odds Close', 'Play Off Game?', 'Kick Off (local)', 'Home Goals',\n",
    "       'Home Behinds', 'Away Goals', 'Away Behinds'], inplace = True)"
   ]
  },
  {
   "cell_type": "code",
   "execution_count": 7,
   "id": "c361c4cf-6470-4d81-b5ca-17cab2388514",
   "metadata": {},
   "outputs": [],
   "source": [
    "odds = odds.rename(columns = {\n",
    "    'Date': 'date', 'Home Team': 'home_team', 'Away Team': 'away_team', 'Venue': 'venue', 'Home Score': 'home_score', 'Away Score': 'away_score',\n",
    "       'Home Odds': 'home_odds', 'Away Odds': 'away_odds'\n",
    "})"
   ]
  },
  {
   "cell_type": "code",
   "execution_count": 8,
   "id": "cfd08a16-7cf2-473e-b766-f734afa582ff",
   "metadata": {},
   "outputs": [],
   "source": [
    "odds = odds.drop(index = odds[odds.isnull().any(axis=1)].index)"
   ]
  },
  {
   "cell_type": "code",
   "execution_count": 9,
   "id": "f197ff6b-ee4e-47b9-929e-1e9e492698ea",
   "metadata": {},
   "outputs": [],
   "source": [
    "# create a column where if home_odds > away_odds, return 1 else return 0 (1 = correct, 0 = incorrect)\n",
    "odds['home_odds'] = odds['home_odds'].apply(lambda x: float(x.replace('\\t', ' ').strip()))\n",
    "odds['away_odds'] = odds['away_odds'].apply(lambda x: float(x.replace('\\t', ' ').strip()))"
   ]
  },
  {
   "cell_type": "code",
   "execution_count": 10,
   "id": "6c2a9d0f-e9a2-4fc0-a35b-ee34bc5e217a",
   "metadata": {
    "tags": []
   },
   "outputs": [],
   "source": [
    "odds[['home_score', 'away_score']] = odds[['home_score', 'away_score']].astype(int)\n",
    "\n",
    "odds['odds_on_home_team'] = odds['home_odds'] < odds['away_odds']\n",
    "\n",
    "odds['odds_on_home_team'] = odds['odds_on_home_team'].apply(lambda x: 1 if x == True else 0)\n",
    "\n",
    "odds['home_team_win'] = odds['home_score'] > odds['away_score']\n",
    "\n",
    "odds['home_team_win'] = odds['home_team_win'].apply(lambda x: 1 if x == True else 0)"
   ]
  },
  {
   "cell_type": "markdown",
   "id": "951747b0-78f8-4795-9718-1aee3200a838",
   "metadata": {
    "tags": []
   },
   "source": [
    "## Model Building"
   ]
  },
  {
   "cell_type": "markdown",
   "id": "92f95b31-92a6-4a53-a3ff-5d36a51b390b",
   "metadata": {
    "jp-MarkdownHeadingCollapsed": true,
    "tags": []
   },
   "source": [
    "### Process"
   ]
  },
  {
   "cell_type": "markdown",
   "id": "186cc051-0f0b-4283-9e18-b9ca13d30cba",
   "metadata": {},
   "source": [
    "Process: \n",
    "1. Clean data\n",
    "2. Scale\n",
    "3. Baseline model\n",
    "4. Add in featureseasiest first\n",
    "5. Retest model\n",
    "6. Repeat 4, 5\n",
    "\n",
    "Features\n",
    "- odds✅\n",
    "- cumulative total games per game✅\n",
    "- start time\n",
    "- cumulative age of all players\n",
    "- win/loss streak\n",
    "- distanced travelled to play the game (this would account for melb teams playing in melb and derbies)\n",
    "\n",
    "\n",
    "- Predicting home_team_win (use predict proba)"
   ]
  },
  {
   "cell_type": "markdown",
   "id": "94aab954-f5cb-4c89-ad37-66c0ad955008",
   "metadata": {},
   "source": [
    "FLOW\n",
    "from sklearn import SomeModel\n",
    "\n",
    "- mdl = Model()\n",
    "- mdl.fit(X_train,y_train)\n",
    "- mdl.score(X_test,y_test)\n",
    "- mdl.predict(X_new)"
   ]
  },
  {
   "cell_type": "markdown",
   "id": "84cc5d78-2be9-4848-98ca-2c1e099b63c2",
   "metadata": {
    "tags": []
   },
   "source": [
    "### Baseline Model"
   ]
  },
  {
   "cell_type": "code",
   "execution_count": 11,
   "id": "680450b0-e01c-4af1-b53b-c1cf8967b732",
   "metadata": {},
   "outputs": [],
   "source": [
    "df_odds = odds.copy()\n",
    "df_odds['date'] = pd.to_datetime(df_odds['date'])\n",
    "df_odds = df_odds[(df_odds['date'] > '31-Dec-11') & (df_odds['date'] < '31-Dec-21')]"
   ]
  },
  {
   "cell_type": "code",
   "execution_count": 12,
   "id": "f43d5e70-0620-4c20-bc36-36758456e1bc",
   "metadata": {},
   "outputs": [],
   "source": [
    "from sklearn.model_selection import train_test_split\n",
    "X = df_odds[['home_odds', 'away_odds']]\n",
    "y = df_odds['home_team_win']\n",
    "\n",
    "X_train, X_test, y_train, y_test = train_test_split(X, y, test_size=0.3)"
   ]
  },
  {
   "cell_type": "code",
   "execution_count": 52,
   "id": "70e7f9a4-24ef-4a30-b24f-ce620886dc33",
   "metadata": {},
   "outputs": [],
   "source": [
    "from sklearn.preprocessing import StandardScaler\n",
    "import matplotlib.pyplot as plt\n",
    "import seaborn as sns\n",
    "\n",
    "scaler = StandardScaler() \n",
    "X_train_scaled = scaler.fit_transform(X_train.values)"
   ]
  },
  {
   "cell_type": "code",
   "execution_count": 53,
   "id": "70ddff08-b14c-454a-9071-fb703ab63ee2",
   "metadata": {},
   "outputs": [
    {
     "data": {
      "text/plain": [
       "{'base': 0.7217410848067126}"
      ]
     },
     "execution_count": 53,
     "metadata": {},
     "output_type": "execute_result"
    }
   ],
   "source": [
    "from sklearn.linear_model import LogisticRegression\n",
    "from sklearn.model_selection import cross_val_score\n",
    "\n",
    "log_reg = LogisticRegression()\n",
    "\n",
    "base_scores = cross_val_score(log_reg, X_train_scaled, y_train, cv=10) # Cross validate\n",
    "\n",
    "scores = {}\n",
    "scores['base'] = base_scores.mean()\n",
    "\n",
    "scores"
   ]
  },
  {
   "cell_type": "code",
   "execution_count": 54,
   "id": "a0e2a2c5-194e-4e66-9392-e9e4db06d4b8",
   "metadata": {
    "tags": []
   },
   "outputs": [],
   "source": [
    "# Train the model on the Training data\n",
    "log_reg.fit(X_train.values, y_train.values)\n",
    "\n",
    "# Score the model on the Test data\n",
    "test_score = log_reg.score(X_test.values, y_test.values)\n",
    "\n",
    "X_new = scaler.transform([[10, 1]])\n",
    "y_pred = log_reg.predict_proba(X_new)\n",
    "\n"
   ]
  },
  {
   "cell_type": "markdown",
   "id": "45de6621-e247-4ee3-a391-a3fdf8123f31",
   "metadata": {
    "tags": []
   },
   "source": [
    "### Ft_1: Cumulative games\n",
    "The cumulative total games of the playing team"
   ]
  },
  {
   "cell_type": "code",
   "execution_count": 16,
   "id": "35b84f06-e38a-404f-8295-a46c1c6beb25",
   "metadata": {},
   "outputs": [],
   "source": [
    "team_total_games_df = stats_df.groupby(['gameId', 'team'])[['gameNumber']].sum().reset_index().rename(columns = { 'gameNumber' : 'teamTotalGames' })"
   ]
  },
  {
   "cell_type": "code",
   "execution_count": 17,
   "id": "e42bc617-c032-4a31-b8e1-fef946447871",
   "metadata": {},
   "outputs": [],
   "source": [
    "home_away_df = team_total_games_df.merge(games_df[['homeTeam', 'awayTeam', 'gameId']], on = 'gameId', how = 'left')\n",
    "home_away_df[['homeTotalGames','awayTotalGames']] = np.nan"
   ]
  },
  {
   "cell_type": "code",
   "execution_count": 18,
   "id": "bad6fa15-5dc9-4c34-8836-c98fa19d2c37",
   "metadata": {},
   "outputs": [],
   "source": [
    "row = home_away_df[home_away_df['gameId'] == '2012EF01']\n",
    "\n",
    "def home_games(row):\n",
    "    if row['team'] == row['homeTeam']:\n",
    "        return row['teamTotalGames']\n",
    "    else:\n",
    "        return np.nan\n",
    "        \n",
    "def away_games(row):\n",
    "    if row['team'] == row['awayTeam']:\n",
    "        return row['teamTotalGames']\n",
    "    else:\n",
    "        return np.nan  \n",
    "    \n",
    "home_away_df['homeTotalGames'] = home_away_df.apply(lambda x: home_games(x), axis = 1)\n",
    "home_away_df['awayTotalGames'] = home_away_df.apply(lambda x: away_games(x), axis = 1)"
   ]
  },
  {
   "cell_type": "code",
   "execution_count": 19,
   "id": "7d48c705-7f3e-4cea-8dc1-5c4ada41e7b7",
   "metadata": {},
   "outputs": [
    {
     "data": {
      "text/plain": [
       "gameId            0\n",
       "homeTotalGames    0\n",
       "awayTotalGames    0\n",
       "dtype: int64"
      ]
     },
     "execution_count": 19,
     "metadata": {},
     "output_type": "execute_result"
    }
   ],
   "source": [
    "home_away_df = home_away_df.groupby('gameId')[['homeTotalGames', 'awayTotalGames']].sum().reset_index()\n",
    "\n",
    "home_away_df.isna().sum()"
   ]
  },
  {
   "cell_type": "code",
   "execution_count": 34,
   "id": "cff51ec9-069c-4004-b752-73dfa6e1aec6",
   "metadata": {},
   "outputs": [],
   "source": [
    "games_home_away_df = games_df[['gameId', 'date', 'startTime', 'homeTeam']].merge(home_away_df, on = 'gameId', how = 'left')"
   ]
  },
  {
   "cell_type": "code",
   "execution_count": 21,
   "id": "ce12b6ab-9649-4f29-bfcf-f7909bc1ea9b",
   "metadata": {},
   "outputs": [],
   "source": [
    "df_odds_1 = df_odds.merge(games_home_away_df[['date', 'homeTotalGames', 'awayTotalGames', 'homeTeam']], left_on = ['home_team', 'date' ], right_on = ['homeTeam', 'date'], how = 'left')"
   ]
  },
  {
   "cell_type": "code",
   "execution_count": 22,
   "id": "ef7b129a-c73f-4545-b46f-42b0cf36314f",
   "metadata": {},
   "outputs": [],
   "source": [
    "df_odds_1.drop(columns = 'homeTeam', inplace = True)"
   ]
  },
  {
   "cell_type": "code",
   "execution_count": 23,
   "id": "eeef18cf-5c08-455c-94d2-201a5e75e6e8",
   "metadata": {},
   "outputs": [],
   "source": [
    "# Replace Nan's with mean\n",
    "home_total_mean = df_odds_1['homeTotalGames'].mean()\n",
    "away_total_mean = df_odds_1['awayTotalGames'].mean()\n",
    "\n",
    "\n",
    "df_odds_1['homeTotalGames'] = df_odds_1['homeTotalGames'].replace(np.nan, home_total_mean)\n",
    "df_odds_1['awayTotalGames'] = df_odds_1['awayTotalGames'].replace(np.nan, away_total_mean)"
   ]
  },
  {
   "cell_type": "code",
   "execution_count": 35,
   "id": "ebea4b70-8f99-4e46-9238-8e68b3afbb94",
   "metadata": {},
   "outputs": [
    {
     "data": {
      "text/plain": [
       "date                 0\n",
       "home_team            0\n",
       "away_team            0\n",
       "venue                0\n",
       "home_score           0\n",
       "away_score           0\n",
       "home_odds            0\n",
       "away_odds            0\n",
       "odds_on_home_team    0\n",
       "home_team_win        0\n",
       "homeTotalGames       0\n",
       "awayTotalGames       0\n",
       "dtype: int64"
      ]
     },
     "execution_count": 35,
     "metadata": {},
     "output_type": "execute_result"
    }
   ],
   "source": [
    "df_odds_1.isna().sum()"
   ]
  },
  {
   "cell_type": "code",
   "execution_count": 25,
   "id": "ddca7d87-6b4f-400d-9363-720801b69f48",
   "metadata": {},
   "outputs": [],
   "source": [
    "X_1 = df_odds_1[['home_odds', 'away_odds', 'homeTotalGames', 'awayTotalGames']]\n",
    "y_1 = df_odds_1['home_team_win']\n",
    "\n",
    "X_train_1, X_test_1, y_train_1, y_test_1 = train_test_split(X_1, y_1, test_size=0.3)"
   ]
  },
  {
   "cell_type": "code",
   "execution_count": 63,
   "id": "6a97510e-e78e-4794-a57c-305bf64318b0",
   "metadata": {},
   "outputs": [],
   "source": [
    "scaler_1 = StandardScaler() \n",
    "X_train_1_scaled = scaler_1.fit_transform(X_train_1.values)"
   ]
  },
  {
   "cell_type": "code",
   "execution_count": 64,
   "id": "61fb3d14-a1e2-4447-9413-9b11f9dcebbf",
   "metadata": {},
   "outputs": [
    {
     "data": {
      "text/plain": [
       "{'base': 0.7217410848067126, 'ft_1': 0.6963340325641795}"
      ]
     },
     "execution_count": 64,
     "metadata": {},
     "output_type": "execute_result"
    }
   ],
   "source": [
    "log_reg_1 = LogisticRegression()\n",
    "\n",
    "ft_1_scores = cross_val_score(log_reg_1, X_train_1_scaled, y_train_1, cv=10) # Cross validate\n",
    "\n",
    "scores['ft_1'] = ft_1_scores.mean()\n",
    "\n",
    "scores"
   ]
  },
  {
   "cell_type": "code",
   "execution_count": 66,
   "id": "1fbfc6b9-7c9f-405a-87d2-e674eabcbff0",
   "metadata": {
    "tags": []
   },
   "outputs": [
    {
     "data": {
      "text/plain": [
       "array([[0.34180459, 0.65819541]])"
      ]
     },
     "execution_count": 66,
     "metadata": {},
     "output_type": "execute_result"
    }
   ],
   "source": [
    "# Train the model on the Training data\n",
    "log_reg_1.fit(X_train_1.values, y_train_1.values)\n",
    "\n",
    "# Score the model on the Test data\n",
    "test_score = log_reg_1.score(X_test_1.values, y_test_1.values)\n",
    "\n",
    "\n",
    "X_new_1 = scaler_1.transform([[2, 8, 1000, 1000]]) # (odds home, odds away, home cumulative games, away cumulative games)\n",
    "y_pred_1 = log_reg_1.predict_proba(X_new_1)\n",
    "y_pred_1"
   ]
  },
  {
   "cell_type": "markdown",
   "id": "6f3dc5dd-7e4b-434f-ba58-ccd6a01adbb7",
   "metadata": {},
   "source": [
    "# Conclusion"
   ]
  },
  {
   "cell_type": "markdown",
   "id": "04ffe37e-b805-4bb0-8726-15c35a9c61bd",
   "metadata": {},
   "source": [
    "1. Including cumulative games does not meaningfully impact the models score\n",
    "2. The model has a 70 - 72% accuracy in predicting which team will win based on bookmakers odds.\n",
    "3. Said another way, if you bet the same way as the bookmakers you will be right 70-72% of the time\n",
    "4. In the current tipping environment, that gives you a 6.3 average per round, which puts you in the top 5k tippers ([Tipping rankings](https://tipping.afl.com.au/tipping/index.html#/tipping-rankings))"
   ]
  },
  {
   "cell_type": "code",
   "execution_count": 29,
   "id": "dc3f4eff-dbf4-4402-9e16-180bb56e1c0f",
   "metadata": {},
   "outputs": [],
   "source": [
    "df_odds_2 = df_odds_1.copy()"
   ]
  },
  {
   "cell_type": "code",
   "execution_count": 30,
   "id": "e15e41ff-405c-42b3-bb5d-ec89a71d73e9",
   "metadata": {},
   "outputs": [],
   "source": [
    "df_odds_2[['homeTotalGames', 'awayTotalGames']] = df_odds_2[['homeTotalGames', 'awayTotalGames']].apply(lambda x: round(x, 0))"
   ]
  },
  {
   "cell_type": "code",
   "execution_count": 31,
   "id": "467ec01e-ea61-4926-8fef-5ad4ff93a00c",
   "metadata": {},
   "outputs": [
    {
     "data": {
      "text/html": [
       "<div>\n",
       "<style scoped>\n",
       "    .dataframe tbody tr th:only-of-type {\n",
       "        vertical-align: middle;\n",
       "    }\n",
       "\n",
       "    .dataframe tbody tr th {\n",
       "        vertical-align: top;\n",
       "    }\n",
       "\n",
       "    .dataframe thead th {\n",
       "        text-align: right;\n",
       "    }\n",
       "</style>\n",
       "<table border=\"1\" class=\"dataframe\">\n",
       "  <thead>\n",
       "    <tr style=\"text-align: right;\">\n",
       "      <th></th>\n",
       "      <th>date</th>\n",
       "      <th>home_team</th>\n",
       "      <th>away_team</th>\n",
       "      <th>venue</th>\n",
       "      <th>home_score</th>\n",
       "      <th>away_score</th>\n",
       "      <th>home_odds</th>\n",
       "      <th>away_odds</th>\n",
       "      <th>odds_on_home_team</th>\n",
       "      <th>home_team_win</th>\n",
       "      <th>homeTotalGames</th>\n",
       "      <th>awayTotalGames</th>\n",
       "    </tr>\n",
       "  </thead>\n",
       "  <tbody>\n",
       "    <tr>\n",
       "      <th>0</th>\n",
       "      <td>2021-09-25</td>\n",
       "      <td>Melbourne</td>\n",
       "      <td>Western Bulldogs</td>\n",
       "      <td>Optus Stadium</td>\n",
       "      <td>140</td>\n",
       "      <td>66</td>\n",
       "      <td>1.66</td>\n",
       "      <td>2.20</td>\n",
       "      <td>1</td>\n",
       "      <td>1</td>\n",
       "      <td>2279.0</td>\n",
       "      <td>2591.0</td>\n",
       "    </tr>\n",
       "    <tr>\n",
       "      <th>1</th>\n",
       "      <td>2021-09-11</td>\n",
       "      <td>Port Adelaide</td>\n",
       "      <td>Western Bulldogs</td>\n",
       "      <td>Adelaide Oval</td>\n",
       "      <td>45</td>\n",
       "      <td>116</td>\n",
       "      <td>1.38</td>\n",
       "      <td>3.01</td>\n",
       "      <td>1</td>\n",
       "      <td>0</td>\n",
       "      <td>2635.0</td>\n",
       "      <td>2522.0</td>\n",
       "    </tr>\n",
       "    <tr>\n",
       "      <th>2</th>\n",
       "      <td>2021-09-10</td>\n",
       "      <td>Melbourne</td>\n",
       "      <td>Geelong</td>\n",
       "      <td>Optus Stadium</td>\n",
       "      <td>125</td>\n",
       "      <td>42</td>\n",
       "      <td>1.49</td>\n",
       "      <td>2.61</td>\n",
       "      <td>1</td>\n",
       "      <td>1</td>\n",
       "      <td>2256.0</td>\n",
       "      <td>3707.0</td>\n",
       "    </tr>\n",
       "    <tr>\n",
       "      <th>3</th>\n",
       "      <td>2021-09-04</td>\n",
       "      <td>Brisbane</td>\n",
       "      <td>Western Bulldogs</td>\n",
       "      <td>Gabba</td>\n",
       "      <td>78</td>\n",
       "      <td>79</td>\n",
       "      <td>1.58</td>\n",
       "      <td>2.36</td>\n",
       "      <td>1</td>\n",
       "      <td>0</td>\n",
       "      <td>2121.0</td>\n",
       "      <td>2077.0</td>\n",
       "    </tr>\n",
       "    <tr>\n",
       "      <th>4</th>\n",
       "      <td>2021-09-03</td>\n",
       "      <td>Geelong</td>\n",
       "      <td>GWS Giants</td>\n",
       "      <td>Optus Stadium</td>\n",
       "      <td>103</td>\n",
       "      <td>68</td>\n",
       "      <td>1.33</td>\n",
       "      <td>3.25</td>\n",
       "      <td>1</td>\n",
       "      <td>1</td>\n",
       "      <td>3525.0</td>\n",
       "      <td>2175.0</td>\n",
       "    </tr>\n",
       "    <tr>\n",
       "      <th>...</th>\n",
       "      <td>...</td>\n",
       "      <td>...</td>\n",
       "      <td>...</td>\n",
       "      <td>...</td>\n",
       "      <td>...</td>\n",
       "      <td>...</td>\n",
       "      <td>...</td>\n",
       "      <td>...</td>\n",
       "      <td>...</td>\n",
       "      <td>...</td>\n",
       "      <td>...</td>\n",
       "      <td>...</td>\n",
       "    </tr>\n",
       "    <tr>\n",
       "      <th>2019</th>\n",
       "      <td>2012-03-31</td>\n",
       "      <td>Gold Coast</td>\n",
       "      <td>Adelaide</td>\n",
       "      <td>Metricon Stadium</td>\n",
       "      <td>68</td>\n",
       "      <td>137</td>\n",
       "      <td>4.39</td>\n",
       "      <td>1.22</td>\n",
       "      <td>0</td>\n",
       "      <td>0</td>\n",
       "      <td>1009.0</td>\n",
       "      <td>1830.0</td>\n",
       "    </tr>\n",
       "    <tr>\n",
       "      <th>2020</th>\n",
       "      <td>2012-03-31</td>\n",
       "      <td>Melbourne</td>\n",
       "      <td>Brisbane</td>\n",
       "      <td>MCG</td>\n",
       "      <td>78</td>\n",
       "      <td>119</td>\n",
       "      <td>1.42</td>\n",
       "      <td>2.81</td>\n",
       "      <td>1</td>\n",
       "      <td>0</td>\n",
       "      <td>1641.0</td>\n",
       "      <td>1651.0</td>\n",
       "    </tr>\n",
       "    <tr>\n",
       "      <th>2021</th>\n",
       "      <td>2012-03-30</td>\n",
       "      <td>Hawthorn</td>\n",
       "      <td>Collingwood</td>\n",
       "      <td>MCG</td>\n",
       "      <td>137</td>\n",
       "      <td>115</td>\n",
       "      <td>1.65</td>\n",
       "      <td>2.19</td>\n",
       "      <td>1</td>\n",
       "      <td>1</td>\n",
       "      <td>2071.0</td>\n",
       "      <td>1697.0</td>\n",
       "    </tr>\n",
       "    <tr>\n",
       "      <th>2022</th>\n",
       "      <td>2012-03-29</td>\n",
       "      <td>Richmond</td>\n",
       "      <td>Carlton</td>\n",
       "      <td>MCG</td>\n",
       "      <td>81</td>\n",
       "      <td>125</td>\n",
       "      <td>2.48</td>\n",
       "      <td>1.52</td>\n",
       "      <td>0</td>\n",
       "      <td>0</td>\n",
       "      <td>1552.0</td>\n",
       "      <td>2062.0</td>\n",
       "    </tr>\n",
       "    <tr>\n",
       "      <th>2023</th>\n",
       "      <td>2012-03-24</td>\n",
       "      <td>GWS Giants</td>\n",
       "      <td>Sydney</td>\n",
       "      <td>Accor Stadium</td>\n",
       "      <td>37</td>\n",
       "      <td>100</td>\n",
       "      <td>13.78</td>\n",
       "      <td>1.02</td>\n",
       "      <td>0</td>\n",
       "      <td>0</td>\n",
       "      <td>2121.0</td>\n",
       "      <td>2077.0</td>\n",
       "    </tr>\n",
       "  </tbody>\n",
       "</table>\n",
       "<p>2024 rows × 12 columns</p>\n",
       "</div>"
      ],
      "text/plain": [
       "           date      home_team         away_team             venue  \\\n",
       "0    2021-09-25      Melbourne  Western Bulldogs     Optus Stadium   \n",
       "1    2021-09-11  Port Adelaide  Western Bulldogs     Adelaide Oval   \n",
       "2    2021-09-10      Melbourne           Geelong     Optus Stadium   \n",
       "3    2021-09-04       Brisbane  Western Bulldogs             Gabba   \n",
       "4    2021-09-03        Geelong        GWS Giants     Optus Stadium   \n",
       "...         ...            ...               ...               ...   \n",
       "2019 2012-03-31     Gold Coast          Adelaide  Metricon Stadium   \n",
       "2020 2012-03-31      Melbourne          Brisbane               MCG   \n",
       "2021 2012-03-30       Hawthorn       Collingwood               MCG   \n",
       "2022 2012-03-29       Richmond           Carlton               MCG   \n",
       "2023 2012-03-24     GWS Giants            Sydney     Accor Stadium   \n",
       "\n",
       "      home_score  away_score  home_odds  away_odds  odds_on_home_team  \\\n",
       "0            140          66       1.66       2.20                  1   \n",
       "1             45         116       1.38       3.01                  1   \n",
       "2            125          42       1.49       2.61                  1   \n",
       "3             78          79       1.58       2.36                  1   \n",
       "4            103          68       1.33       3.25                  1   \n",
       "...          ...         ...        ...        ...                ...   \n",
       "2019          68         137       4.39       1.22                  0   \n",
       "2020          78         119       1.42       2.81                  1   \n",
       "2021         137         115       1.65       2.19                  1   \n",
       "2022          81         125       2.48       1.52                  0   \n",
       "2023          37         100      13.78       1.02                  0   \n",
       "\n",
       "      home_team_win  homeTotalGames  awayTotalGames  \n",
       "0                 1          2279.0          2591.0  \n",
       "1                 0          2635.0          2522.0  \n",
       "2                 1          2256.0          3707.0  \n",
       "3                 0          2121.0          2077.0  \n",
       "4                 1          3525.0          2175.0  \n",
       "...             ...             ...             ...  \n",
       "2019              0          1009.0          1830.0  \n",
       "2020              0          1641.0          1651.0  \n",
       "2021              1          2071.0          1697.0  \n",
       "2022              0          1552.0          2062.0  \n",
       "2023              0          2121.0          2077.0  \n",
       "\n",
       "[2024 rows x 12 columns]"
      ]
     },
     "execution_count": 31,
     "metadata": {},
     "output_type": "execute_result"
    }
   ],
   "source": [
    "df_odds_2"
   ]
  },
  {
   "cell_type": "code",
   "execution_count": 32,
   "id": "295ef880-9b7c-44e1-af62-170ad7cf7562",
   "metadata": {},
   "outputs": [],
   "source": [
    "bl_votes = stats_df.groupby(['gameId', 'team'])[['Brownlow Votes']].sum().reset_index().sort_values(ascending = False, by = 'Brownlow Votes')"
   ]
  },
  {
   "cell_type": "code",
   "execution_count": 33,
   "id": "a977b59b-fbfa-4245-a9c8-5d906eda358d",
   "metadata": {},
   "outputs": [
    {
     "data": {
      "text/plain": [
       "team\n",
       "Gold Coast                426\n",
       "Carlton                   536\n",
       "Brisbane Lions            544\n",
       "St Kilda                  544\n",
       "Melbourne                 563\n",
       "Essendon                  586\n",
       "North Melbourne           593\n",
       "Greater Western Sydney    603\n",
       "Western Bulldogs          637\n",
       "Adelaide                  665\n",
       "Fremantle                 684\n",
       "Port Adelaide             703\n",
       "Richmond                  711\n",
       "Collingwood               719\n",
       "Hawthorn                  730\n",
       "West Coast                734\n",
       "Geelong                   805\n",
       "Sydney                    821\n",
       "Name: Brownlow Votes, dtype: int64"
      ]
     },
     "execution_count": 33,
     "metadata": {},
     "output_type": "execute_result"
    }
   ],
   "source": [
    "bl_votes.groupby('team')['Brownlow Votes'].sum().sort_values()"
   ]
  },
  {
   "cell_type": "code",
   "execution_count": null,
   "id": "e384d364-7399-4834-9489-c34fc25ae059",
   "metadata": {},
   "outputs": [],
   "source": []
  }
 ],
 "metadata": {
  "kernelspec": {
   "display_name": "Python 3 (ipykernel)",
   "language": "python",
   "name": "python3"
  },
  "language_info": {
   "codemirror_mode": {
    "name": "ipython",
    "version": 3
   },
   "file_extension": ".py",
   "mimetype": "text/x-python",
   "name": "python",
   "nbconvert_exporter": "python",
   "pygments_lexer": "ipython3",
   "version": "3.8.12"
  }
 },
 "nbformat": 4,
 "nbformat_minor": 5
}
